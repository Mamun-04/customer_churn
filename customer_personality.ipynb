{
 "cells": [
  {
   "cell_type": "code",
   "execution_count": 54,
   "id": "37532772",
   "metadata": {},
   "outputs": [
    {
     "name": "stdout",
     "output_type": "stream",
     "text": [
      "The sql extension is already loaded. To reload it, use:\n",
      "  %reload_ext sql\n"
     ]
    }
   ],
   "source": [
    "%load_ext sql\n",
    "%sql sqlite:///customer_personality.db\n"
   ]
  },
  {
   "cell_type": "code",
   "execution_count": 55,
   "id": "d239e13e",
   "metadata": {},
   "outputs": [
    {
     "data": {
      "text/plain": [
       "2240"
      ]
     },
     "execution_count": 55,
     "metadata": {},
     "output_type": "execute_result"
    }
   ],
   "source": [
    "import pandas as pd\n",
    "import sqlite3\n",
    "\n",
    "df = pd.read_csv('marketing_campaign.csv', sep='\\t')\n",
    "\n",
    "# Step 2: Connect to your SQLite database\n",
    "conn = sqlite3.connect(\"customer_personality.db\")\n",
    "\n",
    "\n",
    "# Step 3: Write the DataFrame into a SQL table\n",
    "df.to_sql(\"customers\", conn, if_exists=\"replace\", index=False)\n"
   ]
  },
  {
   "cell_type": "code",
   "execution_count": 56,
   "id": "6e621760",
   "metadata": {},
   "outputs": [
    {
     "data": {
      "text/plain": [
       "2240"
      ]
     },
     "execution_count": 56,
     "metadata": {},
     "output_type": "execute_result"
    }
   ],
   "source": [
    "import numpy as np\n",
    "\n",
    "# Add synthetic columns to match expected ML structure\n",
    "df_customers = df.copy()\n",
    "df_customers['customer_id'] = df_customers['ID']\n",
    "df_customers['contract_type'] = np.random.choice(['Month-to-Month', 'One Year', 'Two Year'], size=len(df))\n",
    "df_customers['monthly_spend'] = np.random.normal(loc=60, scale=15, size=len(df)).round(2)\n",
    "df_customers['last_active'] = pd.to_datetime('2024-01-01') - pd.to_timedelta(np.random.randint(30, 1000, size=len(df)), unit='D')\n",
    "\n",
    "# Write to SQL\n",
    "df_customers[['customer_id', 'contract_type', 'monthly_spend', 'last_active']].to_sql(\n",
    "    'customers', conn, if_exists='replace', index=False\n",
    ")\n"
   ]
  },
  {
   "cell_type": "code",
   "execution_count": 57,
   "id": "806cc583",
   "metadata": {},
   "outputs": [],
   "source": [
    "from sklearn.model_selection import train_test_split\n",
    "from sklearn.ensemble import RandomForestClassifier\n",
    "from sklearn.metrics import classification_report\n",
    "\n"
   ]
  },
  {
   "cell_type": "code",
   "execution_count": 63,
   "id": "91ade2d6",
   "metadata": {},
   "outputs": [
    {
     "name": "stdout",
     "output_type": "stream",
     "text": [
      "Test set size: 1\n",
      "Churn class distribution in test set:\n",
      "churned\n",
      "1    1\n",
      "Name: count, dtype: int64\n",
      "Total samples: 3\n"
     ]
    }
   ],
   "source": [
    "print(\"Test set size:\", len(y_test))\n",
    "print(\"Churn class distribution in test set:\")\n",
    "print(y_test.value_counts())\n",
    "print(\"Total samples:\", len(X))\n"
   ]
  },
  {
   "cell_type": "code",
   "execution_count": 58,
   "id": "fa8c42b2",
   "metadata": {},
   "outputs": [
    {
     "name": "stdout",
     "output_type": "stream",
     "text": [
      " * sqlite:///customer_personality.db\n",
      "(sqlite3.OperationalError) no such column: c.age\n",
      "[SQL: SELECT\n",
      "  c.customer_id,\n",
      "  c.age,\n",
      "  c.contract_type,\n",
      "  c.monthly_spend,\n",
      "  julianday('2025-01-01') - julianday(c.last_active) AS days_since_active,\n",
      "  CASE\n",
      "      WHEN julianday('2025-01-01') - julianday(c.last_active) > 180 THEN 1\n",
      "      ELSE 0\n",
      "  END AS churned,\n",
      "  d.Income,\n",
      "  d.Kidhome,\n",
      "  d.Teenhome,\n",
      "  d.Education,\n",
      "  d.Marital_Status,\n",
      "  d.Recency\n",
      "FROM customers c\n",
      "LEFT JOIN campaign_data d ON c.customer_id = d.ID;]\n",
      "(Background on this error at: https://sqlalche.me/e/20/e3q8)\n"
     ]
    }
   ],
   "source": [
    "%%sql result_churn <<\n",
    "SELECT\n",
    "  c.customer_id,\n",
    "  c.age,\n",
    "  c.contract_type,\n",
    "  c.monthly_spend,\n",
    "  julianday('2025-01-01') - julianday(c.last_active) AS days_since_active,\n",
    "  CASE\n",
    "      WHEN julianday('2025-01-01') - julianday(c.last_active) > 180 THEN 1\n",
    "      ELSE 0\n",
    "  END AS churned,\n",
    "  d.Income,\n",
    "  d.Kidhome,\n",
    "  d.Teenhome,\n",
    "  d.Education,\n",
    "  d.Marital_Status,\n",
    "  d.Recency\n",
    "FROM customers c\n",
    "LEFT JOIN campaign_data d ON c.customer_id = d.ID;\n",
    "# Convert SQL result to DataFrame\n",
    "df_churn = result_churn.DataFrame()"
   ]
  },
  {
   "cell_type": "code",
   "execution_count": 59,
   "id": "f990552c",
   "metadata": {},
   "outputs": [
    {
     "name": "stdout",
     "output_type": "stream",
     "text": [
      "              precision    recall  f1-score   support\n",
      "\n",
      "           1       1.00      1.00      1.00         1\n",
      "\n",
      "    accuracy                           1.00         1\n",
      "   macro avg       1.00      1.00      1.00         1\n",
      "weighted avg       1.00      1.00      1.00         1\n",
      "\n"
     ]
    }
   ],
   "source": [
    "# Drop non-feature columns\n",
    "X = df_churn.drop(columns=['customer_id', 'churned'])\n",
    "y = df_churn['churned']\n",
    "\n",
    "# One-hot encode\n",
    "X = pd.get_dummies(X)\n",
    "\n",
    "# Fill missing\n",
    "X = X.fillna(0)\n",
    "\n",
    "# Split, train, evaluate\n",
    "X_train, X_test, y_train, y_test = train_test_split(X, y, test_size=0.2, random_state=42)\n",
    "\n",
    "model = RandomForestClassifier(random_state=42)\n",
    "model.fit(X_train, y_train)\n",
    "\n",
    "y_pred = model.predict(X_test)\n",
    "print(classification_report(y_test, y_pred))\n"
   ]
  }
 ],
 "metadata": {
  "kernelspec": {
   "display_name": "ml-env",
   "language": "python",
   "name": "python3"
  },
  "language_info": {
   "codemirror_mode": {
    "name": "ipython",
    "version": 3
   },
   "file_extension": ".py",
   "mimetype": "text/x-python",
   "name": "python",
   "nbconvert_exporter": "python",
   "pygments_lexer": "ipython3",
   "version": "3.10.16"
  }
 },
 "nbformat": 4,
 "nbformat_minor": 5
}
